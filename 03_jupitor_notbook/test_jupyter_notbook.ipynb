{
 "cells": [
  {
   "cell_type": "markdown",
   "id": "ce7dd609-45d2-48e5-9f52-148ce80b733e",
   "metadata": {},
   "source": [
    "# Python ka Chilla with baba Ammar\n",
    "# how to use jupyter notebook\n",
    "## basics of python\n",
    "01-**my first program**"
   ]
  },
  {
   "cell_type": "code",
   "execution_count": 1,
   "id": "12164f25-a185-4700-8391-9bb8831c9522",
   "metadata": {},
   "outputs": [
    {
     "name": "stdout",
     "output_type": "stream",
     "text": [
      "5\n",
      "Hello World\n"
     ]
    }
   ],
   "source": [
    "print(2+3)\n",
    "print(\"Hello World\")"
   ]
  },
  {
   "cell_type": "markdown",
   "id": "ca0ac132-afc8-47e8-9b54-9d2f3eced4ba",
   "metadata": {},
   "source": [
    "02- **operators**"
   ]
  },
  {
   "cell_type": "code",
   "execution_count": 2,
   "id": "93cdf558-9a7a-4b96-ac38-3b48d4eb3637",
   "metadata": {},
   "outputs": [
    {
     "name": "stdout",
     "output_type": "stream",
     "text": [
      "9\n",
      "2\n",
      "20\n",
      "3.0\n",
      "3\n",
      "1\n",
      "27\n",
      "1.2222222222222214\n"
     ]
    }
   ],
   "source": [
    "print(5+4)\n",
    "print(4-2)\n",
    "print(4*5)\n",
    "print(6/2)\n",
    "print(6//2)\n",
    "print(9%2)\n",
    "print(3**3)\n",
    "\n",
    "print(2**3/3*5/6+2-3)"
   ]
  },
  {
   "cell_type": "markdown",
   "id": "104565a8-1c5b-4edc-8723-f595c1df8c7a",
   "metadata": {},
   "source": [
    "*PEMDAS*\n",
    " (parenthesis,exponents,multiply,divide,addition,substraction)\n",
    " (Left to right sequence for M D & A S)"
   ]
  },
  {
   "cell_type": "markdown",
   "id": "77261067-7243-4019-b006-22f499cacd4c",
   "metadata": {},
   "source": [
    "03-**Strings**"
   ]
  },
  {
   "cell_type": "code",
   "execution_count": 3,
   "id": "f26477dc-3546-47df-89d2-3a78c00fffd1",
   "metadata": {},
   "outputs": [
    {
     "name": "stdout",
     "output_type": "stream",
     "text": [
      "5\n",
      "Hello World\n",
      "test for simgle quotes\n",
      "test for double quotes\n",
      "test for triple quotes\n",
      "what's up\n"
     ]
    }
   ],
   "source": [
    "print(2+3)\n",
    "print(\"Hello World\")\n",
    "print('test for simgle quotes')\n",
    "print(\"test for double quotes\")\n",
    "print('''test for triple quotes''')\n",
    "\n",
    "print(\"what's up\")"
   ]
  },
  {
   "cell_type": "markdown",
   "id": "009d29cd-e676-46af-b14d-1b0836a544fa",
   "metadata": {},
   "source": [
    "04-**comments**"
   ]
  },
  {
   "cell_type": "code",
   "execution_count": 4,
   "id": "a8435bb5-c237-4bad-ab65-f6972cb66f24",
   "metadata": {},
   "outputs": [
    {
     "name": "stdout",
     "output_type": "stream",
     "text": [
      "Hello World\n"
     ]
    }
   ],
   "source": [
    "print(\"Hello World\") #press these to coment out (Ctrl+/)"
   ]
  },
  {
   "cell_type": "markdown",
   "id": "14b938ee-f354-4b13-98be-12bc40997933",
   "metadata": {},
   "source": [
    "05-**Variables**"
   ]
  },
  {
   "cell_type": "code",
   "execution_count": 5,
   "id": "2d1f5983-3527-4426-b9cf-edbb20bb56ea",
   "metadata": {},
   "outputs": [
    {
     "name": "stdout",
     "output_type": "stream",
     "text": [
      "5\n",
      "we are learning python with aammar\n",
      "15\n",
      "<class 'int'>\n",
      "<class 'str'>\n",
      "mangoes\n",
      "<class 'int'>\n"
     ]
    }
   ],
   "source": [
    "# # variables: objects containin specific values\n",
    "x=5 # numeric or integer values\n",
    "print(x)\n",
    "y=\"we are learning python with aammar\" # string variable\n",
    "print(y)\n",
    "x=x+10 # or x=15\n",
    "print(x)\n",
    "\n",
    "\n",
    "# # types of variable\n",
    "type(x)\n",
    "print(type(x))\n",
    "type(y)\n",
    "print(type(y))\n",
    "\n",
    "#print_type_class\n",
    "#rules to assign a variable:\n",
    "#1-the variable should contain numbers,letters or underscores\n",
    "#2-dont start with numbers\n",
    "#3-spaces are not allowed\n",
    "#4-dont use keywords used in functions (break,mean,media,test etc...)\n",
    "#5-short and descriptive\n",
    "#case sensitivity (lowercace,uppercase lettrs lower case lettrs should be used)\n",
    "\n",
    "\n",
    "fruit_basket=\"mangoes\"\n",
    "print(fruit_basket)\n",
    "fruit_basket=8\n",
    "print(type(fruit_basket))"
   ]
  },
  {
   "cell_type": "markdown",
   "id": "0ed883c7-fb14-4c03-9623-ad7ebc004945",
   "metadata": {},
   "source": [
    "06-**Input Varibles**"
   ]
  },
  {
   "cell_type": "code",
   "execution_count": 6,
   "id": "600d4398-1771-4d7a-ab74-8f876acc7c39",
   "metadata": {},
   "outputs": [
    {
     "name": "stdin",
     "output_type": "stream",
     "text": [
      "what is your name?  usman\n",
      "how old are you?  18\n"
     ]
    },
    {
     "name": "stdout",
     "output_type": "stream",
     "text": [
      "Hello! usman you are still young\n"
     ]
    }
   ],
   "source": [
    "# fruit_basket=\"mangoes\"\n",
    "# print(fruit_basket)\n",
    "#input function simple\n",
    "# fruit_basket=input(\"what is your favourite fruit?\")\n",
    "# print(fruit_basket)\n",
    "#input function of 2nd stage\n",
    "# name=input(\"what is your name? \")\n",
    "# greetings=\"Hello!\"\n",
    "# print(greetings, name)\n",
    "#another way of 2nd stage input function\n",
    "# name=input(\"what is your name? \")\n",
    "# print(\"Hello!\" ,name)\n",
    "\n",
    "#3rd stage input function\n",
    "name=input(\"what is your name? \")\n",
    "age=input(\"how old are you? \")\n",
    "greetings=\"Hello!\"\n",
    "print(greetings ,name,\"you are still young\")"
   ]
  },
  {
   "cell_type": "markdown",
   "id": "185eeff4-b31f-4489-a727-8538a27d8f3d",
   "metadata": {},
   "source": [
    "07-**conditional logic**"
   ]
  },
  {
   "cell_type": "code",
   "execution_count": 7,
   "id": "d6bcc48d-ec96-48e8-b490-cf9a41692ddb",
   "metadata": {},
   "outputs": [
    {
     "name": "stdout",
     "output_type": "stream",
     "text": [
      "True\n",
      "True\n",
      "True\n"
     ]
    },
    {
     "name": "stdin",
     "output_type": "stream",
     "text": [
      "how old is hammad 18\n"
     ]
    },
    {
     "name": "stdout",
     "output_type": "stream",
     "text": [
      "<class 'int'>\n",
      "False\n"
     ]
    }
   ],
   "source": [
    "#logical operators either tru or false or yes ,no or 0,1\n",
    "#equal to                ==\n",
    "#not equal to            !=\n",
    "#less than                <\n",
    "#greater than             >\n",
    "#lessthan nd equal to     <=\n",
    "# greaterthan nd equalto  >=  \n",
    "#is 4 is equal to 4?\n",
    "print(4==4)\n",
    "print(3<=5)\n",
    "print(5>=2)\n",
    "#application of logical operatores\n",
    "# hammad_age=4\n",
    "# age_at_school=5\n",
    "# print(hammad_age==age_at_school)\n",
    "#imput function and logical operator\n",
    "age_at_school=5\n",
    "hammad_age=input(\"how old is hammad\") # input function\n",
    "hammad_age=int(hammad_age)\n",
    "print(type(hammad_age))\n",
    "print(hammad_age==age_at_school) #logical operator"
   ]
  },
  {
   "cell_type": "markdown",
   "id": "10732e0e-6791-4b1a-b8bb-e8f21f4ecba4",
   "metadata": {},
   "source": [
    "08- **type conversion**"
   ]
  },
  {
   "cell_type": "code",
   "execution_count": 8,
   "id": "b24258ff-e833-412e-aefd-0a17daaaa1d0",
   "metadata": {},
   "outputs": [
    {
     "name": "stdin",
     "output_type": "stream",
     "text": [
      "what is your age?  18\n"
     ]
    },
    {
     "name": "stdout",
     "output_type": "stream",
     "text": [
      "18 <class 'int'>\n"
     ]
    }
   ],
   "source": [
    "# x=10                       #integer\n",
    "# y=10.2                      #float\n",
    "# z=\"Hello\"                   #string\n",
    "# #implicit type conversion\n",
    "# x=x*y\n",
    "# print(x,\"type of x is:\",type(x))\n",
    "\n",
    "\n",
    "# #implicit type conversion\n",
    "age=input(\"what is your age? \")\n",
    "# age=int(age)\n",
    "print(age, type(int(age)))"
   ]
  },
  {
   "cell_type": "markdown",
   "id": "704bdcb0-7c7f-4693-8b3b-6c9a641a7bc0",
   "metadata": {},
   "source": [
    "09- **if else elif**"
   ]
  },
  {
   "cell_type": "code",
   "execution_count": 9,
   "id": "f55c6e99-4a6a-4395-8123-2059b63461e2",
   "metadata": {},
   "outputs": [
    {
     "name": "stdout",
     "output_type": "stream",
     "text": [
      "hammad should join the higher secondry school\n"
     ]
    }
   ],
   "source": [
    "hammad_age=10\n",
    "required_age_at_school=5\n",
    "# question : can hammad go to school?\n",
    "\n",
    "\n",
    "if hammad_age==required_age_at_school:\n",
    "    print(\"congratulations! hammad can join the school.\")\n",
    "elif hammad_age>required_age_at_school:\n",
    "    print(\"hammad should join the higher secondry school\")   \n",
    "else:\n",
    "    print(\"hammad can not go to school\")"
   ]
  },
  {
   "cell_type": "markdown",
   "id": "f2f00955-8f3c-40af-b08a-ee313a02a92b",
   "metadata": {},
   "source": [
    "10-**Functions**"
   ]
  },
  {
   "cell_type": "code",
   "execution_count": 10,
   "id": "79b2a382-baf3-4e68-8520-f1a648e8e8bd",
   "metadata": {},
   "outputs": [
    {
     "name": "stdout",
     "output_type": "stream",
     "text": [
      "congratulations! hammad can join the school.\n",
      "38\n"
     ]
    }
   ],
   "source": [
    "# def print_usman():\n",
    "#     print(\"learning with usman\")\n",
    "#     print(\"learning with usman\")\n",
    "#     print(\"learning with usman\")\n",
    "# print_usman() \n",
    "\n",
    "# #2\n",
    "# def print_usman():\n",
    "#     text = \"learning with usman\"\n",
    "#     print(text)\n",
    "#     print(text)\n",
    "#     print(text)\n",
    "\n",
    "   \n",
    "# print_usman()    \n",
    "\n",
    "# #3\n",
    "# def print_usman(text):\n",
    "#     print(text)\n",
    "#     print(text)\n",
    "#     print(text)\n",
    "\n",
    "# print_usman(\"learning with usman\")\n",
    "\n",
    "#defining a function with if , elif and else statements\n",
    "def school_calculator(age,text):\n",
    "    if age==5:\n",
    "        print(\"congratulations! hammad can join the school.\")\n",
    "    elif age>5:\n",
    "        print(\"hammad should join the higher secondry school\") \n",
    "    else:\n",
    "        print(\"still hammad is a baby\")\n",
    "\n",
    "school_calculator(5,\"hammad\")              \n",
    "\n",
    "\n",
    "#defining a function of future\n",
    "def future_age(age):\n",
    "    new_age=age+20\n",
    "    return new_age\n",
    "    print (new_age)\n",
    "\n",
    "future_predicted_age= future_age(18)\n",
    "print(future_predicted_age)"
   ]
  },
  {
   "cell_type": "markdown",
   "id": "ea19d08d-7dce-4396-8ac9-162021245f7c",
   "metadata": {},
   "source": [
    "11-**Loops**"
   ]
  },
  {
   "cell_type": "code",
   "execution_count": 11,
   "id": "3e10a01d-e6f8-4968-a917-7a76e7ca2994",
   "metadata": {},
   "outputs": [
    {
     "name": "stdout",
     "output_type": "stream",
     "text": [
      "mon\n",
      "tue\n",
      "wed\n",
      "thu\n",
      "sat\n",
      "sun\n"
     ]
    }
   ],
   "source": [
    "# # while and For loops\n",
    "# #while loop\n",
    "# x=0\n",
    "# while (x<5):\n",
    "#     print(x)\n",
    "#     x=x+1\n",
    "\n",
    "\n",
    "# # for loop\n",
    "# for x in range(5,10):\n",
    "#     print(x)\n",
    "\n",
    "\n",
    "#Array\n",
    "days =(\"mon\",\"tue\",\"wed\",\"thu\",\"fri\",\"sat\",\"sun\")\n",
    "for d in days:\n",
    "    # print(d)\n",
    "    # if (d==\"fri\"):break #loops stop\n",
    "     if (d==\"fri\"):continue #skips d\n",
    "     print(d)"
   ]
  },
  {
   "cell_type": "markdown",
   "id": "ebb5683c-76b5-4e51-9a23-b55e54aa3ccf",
   "metadata": {},
   "source": [
    "12- **import libraries**"
   ]
  },
  {
   "cell_type": "code",
   "execution_count": 12,
   "id": "45652afa-2836-4ae1-b90c-b5a797017f42",
   "metadata": {},
   "outputs": [
    {
     "name": "stdout",
     "output_type": "stream",
     "text": [
      "the valu of pi is 3.141592653589793\n",
      "73.33333333333333\n"
     ]
    }
   ],
   "source": [
    "#import libraries\n",
    "#if u want to print the value of pi\n",
    "import math\n",
    "print(\"the valu of pi is\",math.pi)\n",
    "\n",
    "\n",
    "\n",
    "import statistics\n",
    "\n",
    "x=[50,100,70]\n",
    "\n",
    "print(statistics.mean(x))\n",
    "\n",
    "\n",
    "\n",
    "# numpy # pandas"
   ]
  },
  {
   "cell_type": "markdown",
   "id": "b75196f7-1216-4e96-95db-9ff61ed8abff",
   "metadata": {},
   "source": [
    "13-**Trouble shooting**"
   ]
  },
  {
   "cell_type": "code",
   "execution_count": 13,
   "id": "7db03dcd-a967-464d-bcbc-a8e4f07980ba",
   "metadata": {},
   "outputs": [],
   "source": [
    "# print(we are learning with usman) syntax error\n",
    "# print(25/0) RuntimeError\n",
    "name=\"usman\"\n",
    "# print(\"Hello\"  name) symantik error"
   ]
  }
 ],
 "metadata": {
  "kernelspec": {
   "display_name": "Python 3 (ipykernel)",
   "language": "python",
   "name": "python3"
  },
  "language_info": {
   "codemirror_mode": {
    "name": "ipython",
    "version": 3
   },
   "file_extension": ".py",
   "mimetype": "text/x-python",
   "name": "python",
   "nbconvert_exporter": "python",
   "pygments_lexer": "ipython3",
   "version": "3.9.7"
  }
 },
 "nbformat": 4,
 "nbformat_minor": 5
}

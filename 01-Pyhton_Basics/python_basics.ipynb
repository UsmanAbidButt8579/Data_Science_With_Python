{
 "cells": [
  {
   "cell_type": "code",
   "execution_count": 1,
   "metadata": {},
   "outputs": [
    {
     "name": "stdout",
     "output_type": "stream",
     "text": [
      "5\n",
      "Hello World\n"
     ]
    }
   ],
   "source": [
    "print(2+3)\n",
    "print(\"Hello World\")"
   ]
  },
  {
   "cell_type": "code",
   "execution_count": 2,
   "metadata": {},
   "outputs": [
    {
     "name": "stdout",
     "output_type": "stream",
     "text": [
      "9\n",
      "2\n",
      "20\n",
      "3.0\n",
      "3\n",
      "1\n",
      "27\n",
      "25.22222222222222\n"
     ]
    }
   ],
   "source": [
    "print(5+4)\n",
    "print(4-2)\n",
    "print(4*5)\n",
    "print(6/2)\n",
    "print(6//2)\n",
    "print(9%2)\n",
    "print(3**3)\n",
    "\n",
    "print(2**3/3*5/6+2_3)\n",
    "\n",
    "#PEMDAS\n",
    "#parenthesis,exponents,multiply,divide,addition,substraction\n",
    "#Left to right sequence for M D & A S"
   ]
  },
  {
   "cell_type": "code",
   "execution_count": 3,
   "metadata": {},
   "outputs": [
    {
     "name": "stdout",
     "output_type": "stream",
     "text": [
      "5\n",
      "Hello World\n",
      "test for simgle quotes\n",
      "test for double quotes\n",
      "test for triple quotes\n",
      "what's up\n"
     ]
    }
   ],
   "source": [
    "print(2+3)\n",
    "print(\"Hello World\")\n",
    "print('test for simgle quotes')\n",
    "print(\"test for double quotes\")\n",
    "print('''test for triple quotes''')\n",
    "\n",
    "print(\"what's up\")"
   ]
  },
  {
   "cell_type": "code",
   "execution_count": 4,
   "metadata": {},
   "outputs": [
    {
     "name": "stdout",
     "output_type": "stream",
     "text": [
      "5\n",
      "we are learning python with aammar\n",
      "15\n",
      "<class 'int'>\n",
      "<class 'str'>\n",
      "mangoes\n",
      "<class 'int'>\n"
     ]
    }
   ],
   "source": [
    "# # variables: objects containin specific values\n",
    "x=5 # numeric or integer values\n",
    "print(x)\n",
    "y=\"we are learning python with aammar\" # string variable\n",
    "print(y)\n",
    "x=x+10 # or x=15\n",
    "print(x)\n",
    "\n",
    "\n",
    "# # types of variable\n",
    "type(x)\n",
    "print(type(x))\n",
    "type(y)\n",
    "print(type(y))\n",
    "\n",
    "#print_type_class\n",
    "#rules to assign a variable:\n",
    "#1-the variable should contain numbers,letters or underscores\n",
    "#2-dont start with numbers\n",
    "#3-spaces are not allowed\n",
    "#4-dont use keywords used in functions (break,mean,media,test etc...)\n",
    "#5-short and descriptive\n",
    "#case sensitivity (lowercace,uppercase lettrs lower case lettrs should be used)\n",
    "\n",
    "\n",
    "fruit_basket=\"mangoes\"\n",
    "print(fruit_basket)\n",
    "fruit_basket=8\n",
    "print(type(fruit_basket))"
   ]
  },
  {
   "cell_type": "code",
   "execution_count": null,
   "metadata": {},
   "outputs": [],
   "source": [
    "# fruit_basket=\"mangoes\"\n",
    "# print(fruit_basket)\n",
    "#input function simple\n",
    "# fruit_basket=input(\"what is your favourite fruit?\")\n",
    "# print(fruit_basket)\n",
    "#input function of 2nd stage\n",
    "# name=input(\"what is your name? \")\n",
    "# greetings=\"Hello!\"\n",
    "# print(greetings, name)\n",
    "#another way of 2nd stage input function\n",
    "# name=input(\"what is your name? \")\n",
    "# print(\"Hello!\" ,name)\n",
    "\n",
    "#3rd stage input function\n",
    "name=input(\"what is your name? \")\n",
    "age=input(\"how old are you? \")\n",
    "greetings=\"Hello!\"\n",
    "print(greetings ,name,\"you are still young\")"
   ]
  },
  {
   "cell_type": "code",
   "execution_count": 5,
   "metadata": {},
   "outputs": [
    {
     "name": "stdout",
     "output_type": "stream",
     "text": [
      "True\n",
      "True\n",
      "True\n",
      "<class 'str'>\n",
      "False\n"
     ]
    }
   ],
   "source": [
    "#logical operators either tru or false or yes ,no or 0,1\n",
    "#equal to               ==\n",
    "#not equal to           !=\n",
    "#less than               <\n",
    "#greater than            >\n",
    "#lessthan nd equal to    <=\n",
    "# greaterthan nd equalto  >=  \n",
    "#is 4 is equal to 4?\n",
    "print(4==4)\n",
    "print(3<=5)\n",
    "print(5>=2)\n",
    "#application of logical operatores\n",
    "# hammad_age=4\n",
    "# age_at_school=5\n",
    "# print(hammad_age==age_at_school)\n",
    "#imput function and logical operator\n",
    "age_at_school=5\n",
    "hammad_age=input(\"how old is hammad\") # input function\n",
    "# hammad_age=int(hammad_age)\n",
    "print(type(hammad_age))\n",
    "print(hammad_age==age_at_school) #logical operator"
   ]
  },
  {
   "cell_type": "code",
   "execution_count": null,
   "metadata": {},
   "outputs": [],
   "source": [
    "hammad_age=10\n",
    "required_age_at_school=5\n",
    "# question : can hammad go to school?\n",
    "\n",
    "\n",
    "if hammad_age==required_age_at_school:\n",
    "    print(\"congratulations! hammad can join the school.\")\n",
    "elif hammad_age>required_age_at_school:\n",
    "    print(\"hammad should join the higher secondry school\")   \n",
    "else:\n",
    "    print(\"hammad can not go to school\")"
   ]
  },
  {
   "cell_type": "code",
   "execution_count": null,
   "metadata": {},
   "outputs": [],
   "source": [
    "# # while and For loops\n",
    "# #while loop\n",
    "x=0\n",
    "while (x<5):\n",
    "    print(x)\n",
    "    x=x+1\n",
    "\n",
    "\n",
    "# # for loop\n",
    "for x in range(5,10):\n",
    "    print(x)\n",
    "\n",
    "\n",
    "#Array\n",
    "days =(\"mon\",\"tue\",\"wed\",\"thu\",\"fri\",\"sat\",\"sun\")\n",
    "for d in days:\n",
    "    print(d)\n",
    "    if (d==\"fri\"):break #loops stop\n",
    "    if (d==\"fri\"):continue #skips d\n",
    "    print(d)"
   ]
  },
  {
   "cell_type": "code",
   "execution_count": null,
   "metadata": {},
   "outputs": [],
   "source": [
    "#import libraries\n",
    "#if u want to print the value of pi\n",
    "import math\n",
    "print(\"the valu of pi is\",math.pi)\n",
    "\n",
    "\n",
    "\n",
    "import statistics\n",
    "\n",
    "x=[50,100,70]\n",
    "\n",
    "print(statistics.mean(x))\n",
    "\n",
    "\n",
    "\n",
    "# numpy # pandas"
   ]
  },
  {
   "cell_type": "code",
   "execution_count": null,
   "metadata": {},
   "outputs": [],
   "source": [
    "# print(we are learning with usman) syntax error\n",
    "# print(25/0) RuntimeError\n",
    "name=\"usman\"\n",
    "# print(\"Hello\"  name) symantik error"
   ]
  }
 ],
 "metadata": {
  "interpreter": {
   "hash": "788ae87f773fa036032e79969cc89d786f7628f29bd30d9082446a191a65dc73"
  },
  "kernelspec": {
   "display_name": "Python 3.10.1 64-bit",
   "language": "python",
   "name": "python3"
  },
  "language_info": {
   "codemirror_mode": {
    "name": "ipython",
    "version": 3
   },
   "file_extension": ".py",
   "mimetype": "text/x-python",
   "name": "python",
   "nbconvert_exporter": "python",
   "pygments_lexer": "ipython3",
   "version": "3.10.1"
  },
  "orig_nbformat": 4
 },
 "nbformat": 4,
 "nbformat_minor": 2
}

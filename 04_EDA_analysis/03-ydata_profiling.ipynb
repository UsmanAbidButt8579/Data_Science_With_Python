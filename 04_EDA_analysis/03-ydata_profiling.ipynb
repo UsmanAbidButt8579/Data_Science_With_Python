{
 "cells": [
  {
   "cell_type": "markdown",
   "metadata": {},
   "source": [
    "# Atomatic EDA analysis using ydata profiling"
   ]
  },
  {
   "cell_type": "code",
   "execution_count": 1,
   "metadata": {},
   "outputs": [
    {
     "name": "stderr",
     "output_type": "stream",
     "text": [
      "c:\\Users\\butts\\miniconda3\\envs\\ydata_profiling\\lib\\site-packages\\tqdm\\auto.py:21: TqdmWarning: IProgress not found. Please update jupyter and ipywidgets. See https://ipywidgets.readthedocs.io/en/stable/user_install.html\n",
      "  from .autonotebook import tqdm as notebook_tqdm\n"
     ]
    }
   ],
   "source": [
    "# import libraries\n",
    "import pandas as pd\n",
    "import ydata_profiling as yd\n",
    "import numpy as np\n",
    "import seaborn as sns"
   ]
  },
  {
   "cell_type": "code",
   "execution_count": 2,
   "metadata": {},
   "outputs": [],
   "source": [
    "# import data from seaborn\n",
    "\n",
    "df = sns.load_dataset('titanic')"
   ]
  },
  {
   "cell_type": "code",
   "execution_count": 3,
   "metadata": {},
   "outputs": [
    {
     "name": "stderr",
     "output_type": "stream",
     "text": [
      "Summarize dataset: 100%|██████████| 41/41 [00:03<00:00, 11.22it/s, Completed]                    \n",
      "Generate report structure: 100%|██████████| 1/1 [00:04<00:00,  4.20s/it]\n",
      "Render HTML: 100%|██████████| 1/1 [00:01<00:00,  1.48s/it]\n",
      "c:\\Users\\butts\\miniconda3\\envs\\ydata_profiling\\lib\\site-packages\\ydata_profiling\\profile_report.py:384: UserWarning: Extension .HTML not supported. For now we assume .html was intended. To remove this warning, please use .html or .json.\n",
      "  warnings.warn(\n",
      "Export report to file: 100%|██████████| 1/1 [00:00<00:00, 238.43it/s]\n"
     ]
    }
   ],
   "source": [
    "# ydata profile report\n",
    "\n",
    "profile = yd.ProfileReport(df)\n",
    "profile.to_file(output_file='./outputs/03_ydata_titanic.HTML')"
   ]
  },
  {
   "cell_type": "code",
   "execution_count": 5,
   "metadata": {},
   "outputs": [
    {
     "name": "stderr",
     "output_type": "stream",
     "text": [
      "Summarize dataset: 100%|██████████| 319/319 [00:42<00:00,  7.42it/s, Completed]                                                     \n",
      "Generate report structure: 100%|██████████| 1/1 [00:11<00:00, 11.45s/it]\n",
      "Render HTML: 100%|██████████| 1/1 [00:11<00:00, 11.54s/it]\n",
      "c:\\Users\\butts\\miniconda3\\envs\\ydata_profiling\\lib\\site-packages\\ydata_profiling\\profile_report.py:384: UserWarning: Extension .HTML not supported. For now we assume .html was intended. To remove this warning, please use .html or .json.\n",
      "  warnings.warn(\n",
      "Export report to file: 100%|██████████| 1/1 [00:00<00:00, 10.99it/s]\n"
     ]
    }
   ],
   "source": [
    "# do it on our data.csv\n",
    "\n",
    "df = pd.read_csv('data.csv')\n",
    "profile = yd.ProfileReport(df)\n",
    "profile.to_file(output_file='./outputs/03_ydata_data.HTML')"
   ]
  }
 ],
 "metadata": {
  "kernelspec": {
   "display_name": "Python 3",
   "language": "python",
   "name": "python3"
  },
  "language_info": {
   "codemirror_mode": {
    "name": "ipython",
    "version": 3
   },
   "file_extension": ".py",
   "mimetype": "text/x-python",
   "name": "python",
   "nbconvert_exporter": "python",
   "pygments_lexer": "ipython3",
   "version": "3.10.0"
  }
 },
 "nbformat": 4,
 "nbformat_minor": 2
}

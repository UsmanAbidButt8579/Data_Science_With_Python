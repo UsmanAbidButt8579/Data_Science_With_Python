1. **Supervised**
2. Supervised Learning Algorithms
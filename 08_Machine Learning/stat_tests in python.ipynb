{
 "cells": [
  {
   "cell_type": "markdown",
   "metadata": {},
   "source": [
    "**1. Shapiro Wilk Test**\n",
    "\n",
    "Tests whether a data sample has Gaussian Distribution.\n",
    "\n",
    "**Assumptions**\n",
    "\n",
    "1. Observations in each sample are independent and identically distributed \n",
    "\n",
    "1. Interpretations.\n",
    "\n",
    "HO: the sample has Guassian Normal Distribution.\n",
    "\n",
    "H1: the sample doesnot have GUassion/Normal Distribution."
   ]
  },
  {
   "cell_type": "code",
   "execution_count": null,
   "metadata": {},
   "outputs": [],
   "source": [
    "pip install scipy "
   ]
  },
  {
   "cell_type": "code",
   "execution_count": null,
   "metadata": {},
   "outputs": [],
   "source": [
    "from scipy.stats import shapiro\n",
    "data= [0.873,2.817,0.121,-0.945,-0.055,-1.436,0.360,-1.478,-1.637,-1.869]\n",
    "shapiro(data)"
   ]
  },
  {
   "cell_type": "code",
   "execution_count": null,
   "metadata": {},
   "outputs": [],
   "source": [
    "from scipy.stats import shapiro\n",
    "data= [0.873,2.817,0.121,-0.945,-0.055,-1.436,0.360,-1.478,-1.637,-1.869]\n",
    "stat, p= shapiro(data)\n",
    "print('stat=',stat)\n",
    "print('p=',p)"
   ]
  },
  {
   "cell_type": "code",
   "execution_count": null,
   "metadata": {},
   "outputs": [],
   "source": [
    "# Example of Shapiro-Wilk Normality Test\n",
    "from scipy.stats import shapiro\n",
    "data= [0.873,2.817,0.121,-0.945,-0.055,-1.436,0.360,-1.478,-1.637,-1.869]\n",
    "stat, p= shapiro(data)\n",
    "print('stat =',stat)\n",
    "if p > 0.05:\n",
    "    print('The data is normal')\n",
    "else:\n",
    "    print('The data is not normal')    \n"
   ]
  },
  {
   "cell_type": "code",
   "execution_count": null,
   "metadata": {},
   "outputs": [],
   "source": [
    "# Example of Shapiro-Wilk Normality Test\n",
    "from scipy.stats import shapiro\n",
    "data= [0.873,2.817,0.121,-0.945,-0.055,-1.436,0.360,-1.478,-1.637,-1.869]\n",
    "stat, p= shapiro(data)\n",
    "print('stat =%.3f,p=%.3f' % (stat,p))\n",
    "if p > 0.05:\n",
    "    print('probably Guassian')\n",
    "else:\n",
    "    print('probably not Guassian') "
   ]
  },
  {
   "cell_type": "code",
   "execution_count": null,
   "metadata": {},
   "outputs": [],
   "source": [
    "# Example of Shapiro-Wilk Normality Test\n",
    "from scipy.stats import shapiro\n",
    "data= [0.873,2.817,0.121,-0.945,-0.055,-1.436,0.360,-1.478,-1.637,-1.869]\n",
    "stat, p= shapiro(data)\n",
    "print('stat=',stat)\n",
    "print('p=',p)\n",
    "if p > 0.05:\n",
    "    print('probably Guassian')\n",
    "else:\n",
    "    print('probably not Guassian') "
   ]
  },
  {
   "cell_type": "code",
   "execution_count": null,
   "metadata": {},
   "outputs": [],
   "source": [
    "import pandas as pd\n",
    "import seaborn as sns\n",
    "import numpy as np\n",
    "import matplotlib.pyplot as plt\n",
    "ks= sns.load_dataset('titanic')\n",
    "ks['age'].hist()"
   ]
  },
  {
   "cell_type": "code",
   "execution_count": null,
   "metadata": {},
   "outputs": [],
   "source": [
    "import pandas as pd\n",
    "import seaborn as sns\n",
    "import numpy as np\n",
    "import matplotlib.pyplot as plt\n",
    "ks= sns.load_dataset('titanic')\n",
    "# ks['age'].hist()\n",
    "sns.boxplot(ks['age'])"
   ]
  },
  {
   "cell_type": "code",
   "execution_count": null,
   "metadata": {},
   "outputs": [],
   "source": [
    "# Normality Test\n",
    "from scipy.stats import shapiro\n",
    "stat, p= shapiro(ks['age'])\n",
    "print('stat=',stat)\n",
    "print('p=',p)\n",
    "if p > 0.05:\n",
    "    print('probably Guassian')\n",
    "else:\n",
    "    print('probably not Guassian') "
   ]
  },
  {
   "cell_type": "code",
   "execution_count": null,
   "metadata": {},
   "outputs": [],
   "source": [
    "# Normality Test\n",
    "from scipy.stats import shapiro\n",
    "ks=ks.dropna()\n",
    "stat, p= shapiro(ks['age'])\n",
    "if p > 0.05:\n",
    "    print('probably Guassian')\n",
    "else:\n",
    "    print('probably not Guassian') \n",
    "    "
   ]
  },
  {
   "cell_type": "code",
   "execution_count": null,
   "metadata": {},
   "outputs": [],
   "source": [
    "# Normality Test\n",
    "from scipy.stats import shapiro\n",
    "stat, p= shapiro(ks['age'])\n",
    "sns.boxplot(ks['age'])\n",
    "print('stat=',stat)\n",
    "print('p=',p)\n",
    "if p > 0.05:\n",
    "    print('probably Guassian')\n",
    "else:\n",
    "    print('probably not Guassian') "
   ]
  },
  {
   "cell_type": "code",
   "execution_count": null,
   "metadata": {},
   "outputs": [],
   "source": [
    "# Normality Test\n",
    "from scipy.stats import shapiro\n",
    "ks=ks.dropna()\n",
    "sns.boxplot(ks['age'])\n",
    "stat, p= shapiro(ks['age'])\n",
    "if p > 0.05:\n",
    "    print('probably Guassian')\n",
    "else:\n",
    "    print('probably not Guassian') "
   ]
  },
  {
   "cell_type": "code",
   "execution_count": null,
   "metadata": {},
   "outputs": [],
   "source": [
    "import pandas as pd\n",
    "import seaborn as sns\n",
    "import numpy as np\n",
    "import matplotlib.pyplot as plt\n",
    "ks= sns.load_dataset('titanic')\n",
    "# ks['age'].hist()\n",
    "sns.boxplot(ks['fare'])"
   ]
  },
  {
   "cell_type": "code",
   "execution_count": null,
   "metadata": {},
   "outputs": [],
   "source": [
    "# Normality Test\n",
    "from scipy.stats import shapiro\n",
    "stat, p= shapiro(ks['fare'])\n",
    "sns.boxplot(ks['fare'])\n",
    "print('stat=',stat)\n",
    "print('p=',p)\n",
    "if p > 0.05:\n",
    "    print('probably Guassian')\n",
    "else:\n",
    "    print('probably not Guassian') "
   ]
  },
  {
   "cell_type": "code",
   "execution_count": null,
   "metadata": {},
   "outputs": [],
   "source": [
    "from scipy.stats import shapiro\n",
    "stat, p= shapiro(ks['fare'])\n",
    "(ks['fare']).hist()\n",
    "print('stat=',stat)\n",
    "print('p=',p)\n",
    "if p > 0.05:\n",
    "    print('probably Guassian')\n",
    "else:\n",
    "    print('probably not Guassian') "
   ]
  },
  {
   "cell_type": "markdown",
   "metadata": {},
   "source": [
    "**2.** Correlation Test** **\n",
    "\n",
    "1. Pearson's Correlation Coefficient\n",
    "\n",
    "Tests whether two samples have a linear relationship.\n",
    "\n",
    "**Assumptions**\n",
    "\n",
    "1. Observations in each sample are independent and identically distributed (iid)\n",
    "2. Observations in each sample are Normally Distributed.\n",
    "3. Observations in each sample have same variance.\n",
    "\n",
    "4. Interpretations.\n",
    "\n",
    "HO: the two samples are independent.\n",
    "\n",
    "H1: there is a dependency between the samples.\n",
    "\n"
   ]
  },
  {
   "cell_type": "code",
   "execution_count": null,
   "metadata": {},
   "outputs": [],
   "source": [
    "# Example of  Pearson's Correlation Test\n",
    "from scipy.stats import pearsonr\n",
    "data1= [0.873,2.817,0.121,-0.945,-0.055,-1.436,0.360,-1.478,-1.637,-1.869]\n",
    "data2= [0.873,3.517,0.125,-7.545,-0.555,-1.536,3.350,-1.578,-3.537,-1.579]\n",
    "stat, p= pearsonr(data1,data2)\n",
    "print('stat =%.3f,p=%.3f' % (stat,p))\n",
    "if p > 0.05:\n",
    "    print('probably independent(no correlation)')\n",
    "else:\n",
    "    print('probably dependent (correlation exists)') "
   ]
  },
  {
   "cell_type": "code",
   "execution_count": null,
   "metadata": {},
   "outputs": [],
   "source": [
    "from scipy.stats import pearsonr\n",
    "# data1= [0.873,2.817,0.121,-0.945,-0.055,-1.436,0.360,-1.478,-1.637,-1.869]\n",
    "# data2= [0.873,3.517,0.125,-7.545,-0.555,-1.536,3.350,-1.578,-3.537,-1.579]\n",
    "ks= sns.load_dataset('titanic')\n",
    "stat, p= pearsonr(ks['age'],ks['fare'])\n",
    "print('stat =%.3f,p=%.3f' % (stat,p))\n",
    "if p > 0.05:\n",
    "    print('probably independent(no correlation)')\n",
    "else:\n",
    "    print('probably dependent (correlation exists)') "
   ]
  },
  {
   "cell_type": "markdown",
   "metadata": {},
   "source": [
    "2. Spearman's Rank Correation\n",
    "\n",
    "Tests whether two samples have a monotonic relationship.\n",
    "\n",
    "**Assumptions**\n",
    "\n",
    "1. Observations in each sample are independent and identically distributed (iid)\n",
    "2. Observations in each sample can be Ranked.\n",
    "\n",
    "3. Interpretations.\n",
    "\n",
    "HO: the two samples are independent.\n",
    "\n",
    "H1: there is a dependency between the samples."
   ]
  },
  {
   "cell_type": "code",
   "execution_count": null,
   "metadata": {},
   "outputs": [],
   "source": [
    "# Example of Spearman's Rank Correlation Test\n",
    "from scipy.stats import spearmanr\n",
    "data1= [0.873,2.817,0.121,-0.945,-0.055,-1.436,0.360,-1.478,-1.637,-1.869]\n",
    "data2= [0.873,3.517,0.125,-7.545,-0.555,-1.536,3.350,-1.578,-3.537,-1.579]\n",
    "stat, p= spearmanr(data1,data2)\n",
    "print('stat =%.3f,p=%.3f' % (stat,p))\n",
    "if p > 0.05:\n",
    "    print('probably independent(no correlation)')\n",
    "else:\n",
    "    print('probably dependent (correlation exists)') "
   ]
  },
  {
   "cell_type": "markdown",
   "metadata": {},
   "source": [
    "**3. CHI-Squared Test**\n",
    "\n",
    "Tests whether Categorical variables are related or independent.\n",
    "\n",
    "**Assumptions**\n",
    "\n",
    "1. Observations used in the calculation of contigency table are independent. 25 or more examples in each cell of the contigency table.\n",
    "\n",
    "1. Interpretations.\n",
    "\n",
    "HO: the two samples are independent.\n",
    "\n",
    "H1: there is a dependency between the samples."
   ]
  },
  {
   "cell_type": "code",
   "execution_count": null,
   "metadata": {},
   "outputs": [],
   "source": [
    "# Example of the CHI- Squared Test\n",
    "from scipy.stats import chi2_contingency\n",
    "table= [[10,20,30],[6,9,17]]\n",
    "stat,p,dof,expected=chi2_contingency(table)\n",
    "print('stat =%.3f,p=%.3f' % (stat,p))\n",
    "if p > 0.05:\n",
    "    print('probably independent')\n",
    "else:\n",
    "    print('probably dependent') "
   ]
  },
  {
   "cell_type": "markdown",
   "metadata": {},
   "source": [
    "**3.** Parametric Satistical Hypothesis Test** **\n",
    "\n",
    "1. Studenr's t-test\n",
    "\n",
    "Tests whether means of two independent samples are significantly different.\n",
    "\n",
    "**Assumptions**\n",
    "\n",
    "1. Observations in each sample are independent and identically distributed (iid)\n",
    "2. Observations in each sample are Normally Distributed.\n",
    "3. Observations in each sample have same variance.\n",
    "\n",
    "4. Interpretations.\n",
    "\n",
    "HO: the means of samples are equal.\n",
    "\n",
    "H1: the means of samples are unequal."
   ]
  },
  {
   "cell_type": "code",
   "execution_count": null,
   "metadata": {},
   "outputs": [],
   "source": [
    "# Example of Student's t-Test\n",
    "from scipy.stats import ttest_ind\n",
    "data1= [0.873,2.817,0.121,-0.945,-0.055,-1.436,0.360,-1.478,-1.637,-1.869]\n",
    "data2= [0.873,3.517,0.125,-7.545,-0.555,-1.536,3.350,-1.578,-3.537,-1.579]\n",
    "stat, p= ttest_ind(data1,data2)\n",
    "print('stat =%.3f,p=%.3f' % (stat,p))\n",
    "if p > 0.05:\n",
    "    print('probably the same distribution')\n",
    "else:\n",
    "    print('probably different distribution') "
   ]
  },
  {
   "cell_type": "markdown",
   "metadata": {},
   "source": [
    "2. Paired Student's t-test\n",
    "\n",
    "Tests whether means of two paired samples are significantly different.\n",
    "\n",
    "**Assumptions**\n",
    "\n",
    "1. Observations in each sample are independent and identically distributed (iid)\n",
    "2. Observations in each sample are Normally Distributed.\n",
    "3. Observations in each sample have same variance.\n",
    "4. Observations across each sample are paired.\n",
    "\n",
    "5. Interpretations.\n",
    "\n",
    "HO: the means of samples are equal.\n",
    "\n",
    "H1: the means of samples are unequal."
   ]
  },
  {
   "cell_type": "code",
   "execution_count": null,
   "metadata": {},
   "outputs": [],
   "source": [
    "# Example of Paired Student's t-Test\n",
    "from scipy.stats import ttest_rel\n",
    "data1= [0.873,2.817,0.121,-0.945,-0.055,-1.436,0.360,-1.478,-1.637,-1.869]\n",
    "data2= [0.873,3.517,0.125,-7.545,-0.555,-1.536,3.350,-1.578,-3.537,-1.579]\n",
    "stat, p= ttest_rel(data1,data2)\n",
    "print('stat =%.3f,p=%.3f' % (stat,p))\n",
    "if p > 0.05:\n",
    "    print('probably the same distribution')\n",
    "else:\n",
    "    print('probably different distribution') "
   ]
  },
  {
   "cell_type": "markdown",
   "metadata": {},
   "source": [
    "**4.** Analysis of Variance Test (ANOVA)** **\n",
    "\n",
    "\n",
    "Tests whether means of two or more  independent samples are significantly different.\n",
    "\n",
    "**Assumptions**\n",
    "\n",
    "1. Observations in each sample are independent and identically distributed (iid)\n",
    "2. Observations in each sample are Normally Distributed.\n",
    "3. Observations in each sample have same variance.\n",
    "\n",
    "4. Interpretations.\n",
    "\n",
    "HO: the means of samples are equal.\n",
    "\n",
    "H1: one or more of the means of samples are unequal."
   ]
  },
  {
   "cell_type": "code",
   "execution_count": null,
   "metadata": {},
   "outputs": [],
   "source": [
    "# Example of the analysis of variance Test\n",
    "from scipy.stats import f_oneway\n",
    "data1= [0.873,2.817,0.121,-0.945,-0.055,-1.436,0.360,-1.478,-1.637,-1.869]\n",
    "data2= [0.873,3.517,0.125,-7.545,-0.555,-1.536,3.350,-1.578,-3.537,-1.579]\n",
    "data3= [-0.208,0.696,0.928,-1.148,-0.213,0.229,0.137,0.269,-0.870,-1.204]\n",
    "stat, p= f_oneway(data1,data2,data3)\n",
    "print('stat =%.3f,p=%.3f' % (stat,p))\n",
    "if p > 0.05:\n",
    "    print('probably the same distribution')\n",
    "else:\n",
    "    print('probably different distribution') "
   ]
  },
  {
   "cell_type": "markdown",
   "metadata": {},
   "source": [
    "# post hoc test\n",
    "# tukey test\n",
    "# bonferony test\n",
    "check two way anova?"
   ]
  },
  {
   "cell_type": "code",
   "execution_count": null,
   "metadata": {},
   "outputs": [],
   "source": [
    "# Example of Paired Student's t-Test\n",
    "from scipy.stats import ttest_rel\n",
    "# data1= [0.873,2.817,0.121,-0.945,-0.055,-1.436,0.360,-1.478,-1.637,-1.869]\n",
    "# data2= [0.873,3.517,0.125,-7.545,-0.555,-1.536,3.350,-1.578,-3.537,-1.579]\n",
    "data1=ks['age'].dropna()\n",
    "data2=ks['fare'].dropna()\n",
    "stat, p= ttest_rel(data1,data2)\n",
    "print('stat =%.3f,p=%.3f' % (stat,p))\n",
    "if p > 0.05:\n",
    "    print('probably the same distribution')\n",
    "else:\n",
    "    print('probably different distribution') "
   ]
  },
  {
   "cell_type": "code",
   "execution_count": 36,
   "metadata": {},
   "outputs": [
    {
     "name": "stdout",
     "output_type": "stream",
     "text": [
      "stat =-1.303,p=0.193\n",
      "probably the same distribution\n"
     ]
    }
   ],
   "source": [
    "# Example of Student's t-Test\n",
    "from scipy.stats import ttest_ind\n",
    "# data1= [0.873,2.817,0.121,-0.945,-0.055,-1.436,0.360,-1.478,-1.637,-1.869]\n",
    "# data2= [0.873,3.517,0.125,-7.545,-0.555,-1.536,3.350,-1.578,-3.537,-1.579]\n",
    "data1=ks['age'].dropna()\n",
    "data2=ks['fare'].dropna()\n",
    "stat, p= ttest_ind(data1,data2)\n",
    "print('stat =%.3f,p=%.3f' % (stat,p))\n",
    "if p > 0.05:\n",
    "    print('probably the same distribution')\n",
    "else:\n",
    "    print('probably different distribution') "
   ]
  },
  {
   "cell_type": "code",
   "execution_count": null,
   "metadata": {},
   "outputs": [],
   "source": []
  }
 ],
 "metadata": {
  "interpreter": {
   "hash": "788ae87f773fa036032e79969cc89d786f7628f29bd30d9082446a191a65dc73"
  },
  "kernelspec": {
   "display_name": "Python 3.10.1 64-bit",
   "language": "python",
   "name": "python3"
  },
  "language_info": {
   "codemirror_mode": {
    "name": "ipython",
    "version": 3
   },
   "file_extension": ".py",
   "mimetype": "text/x-python",
   "name": "python",
   "nbconvert_exporter": "python",
   "pygments_lexer": "ipython3",
   "version": "3.10.1"
  },
  "orig_nbformat": 4
 },
 "nbformat": 4,
 "nbformat_minor": 2
}
